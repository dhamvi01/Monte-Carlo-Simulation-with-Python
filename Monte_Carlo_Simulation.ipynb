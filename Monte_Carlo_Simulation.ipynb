{
  "nbformat": 4,
  "nbformat_minor": 0,
  "metadata": {
    "colab": {
      "name": "Monte Carlo Simulation.ipynb",
      "provenance": [],
      "collapsed_sections": [],
      "authorship_tag": "ABX9TyMJYerSnmLHDIr2TrlruM5a",
      "include_colab_link": true
    },
    "kernelspec": {
      "name": "python3",
      "display_name": "Python 3"
    }
  },
  "cells": [
    {
      "cell_type": "markdown",
      "metadata": {
        "id": "view-in-github",
        "colab_type": "text"
      },
      "source": [
        "<a href=\"https://colab.research.google.com/github/dhamvi01/Monte-Carlo-Simulation-with-Python/blob/main/Monte_Carlo_Simulation.ipynb\" target=\"_parent\"><img src=\"https://colab.research.google.com/assets/colab-badge.svg\" alt=\"Open In Colab\"/></a>"
      ]
    },
    {
      "cell_type": "code",
      "metadata": {
        "id": "ddsln3HNv0BO"
      },
      "source": [
        "import pandas as pd\r\n",
        "import numpy as np\r\n",
        "import seaborn as sns\r\n",
        "\r\n",
        "sns.set_style('whitegrid')"
      ],
      "execution_count": 2,
      "outputs": []
    },
    {
      "cell_type": "markdown",
      "metadata": {
        "id": "dMQRLv4AwJDN"
      },
      "source": [
        "we know that our historical percent to target performance is centered around a a mean of 100% and standard deviation of 10%. Let’s define those variables as well as the number of sales reps and simulations we are modeling"
      ]
    },
    {
      "cell_type": "code",
      "metadata": {
        "id": "exyxv2-rv2VM"
      },
      "source": [
        "avg = 1\r\n",
        "std_dev = .1\r\n",
        "num_reps = 500\r\n",
        "num_simulations = 1000"
      ],
      "execution_count": 3,
      "outputs": []
    },
    {
      "cell_type": "markdown",
      "metadata": {
        "id": "4juqV34GwNDK"
      },
      "source": [
        "Now we can use numpy to generate a list of percentages that will replicate our historical normal distribution"
      ]
    },
    {
      "cell_type": "code",
      "metadata": {
        "id": "bk8nzUqvwEby"
      },
      "source": [
        "pct_to_target = np.random.normal(avg, std_dev, num_reps).round(2)"
      ],
      "execution_count": 4,
      "outputs": []
    },
    {
      "cell_type": "markdown",
      "metadata": {
        "id": "Bg3mlwP_whpL"
      },
      "source": [
        " we will use a uniform distribution but assign lower probability rates for some of the values."
      ]
    },
    {
      "cell_type": "code",
      "metadata": {
        "id": "M8DHaD7mwPbS"
      },
      "source": [
        "sales_target_values = [75_000, 100_000, 200_000, 300_000, 400_000, 500_000]\r\n",
        "sales_target_prob = [.3, .3, .2, .1, .05, .05]\r\n",
        "sales_target = np.random.choice(sales_target_values, num_reps, p=sales_target_prob)"
      ],
      "execution_count": 5,
      "outputs": []
    },
    {
      "cell_type": "markdown",
      "metadata": {
        "id": "g1nTsU_FwqcL"
      },
      "source": [
        "Now that we know how to create our two input distributions, let’s build up a pandas dataframe:"
      ]
    },
    {
      "cell_type": "code",
      "metadata": {
        "colab": {
          "base_uri": "https://localhost:8080/",
          "height": 402
        },
        "id": "ODMbf-QLwkSC",
        "outputId": "78ecdaaf-e1af-4bcf-a193-9b4f693d3fcd"
      },
      "source": [
        "df = pd.DataFrame(index=range(num_reps), data={'Pct_To_Target': pct_to_target,\r\n",
        "                                               'Sales_Target': sales_target})\r\n",
        "\r\n",
        "df['Sales'] = df['Pct_To_Target'] * df['Sales_Target']\r\n",
        "df"
      ],
      "execution_count": 9,
      "outputs": [
        {
          "output_type": "execute_result",
          "data": {
            "text/html": [
              "<div>\n",
              "<style scoped>\n",
              "    .dataframe tbody tr th:only-of-type {\n",
              "        vertical-align: middle;\n",
              "    }\n",
              "\n",
              "    .dataframe tbody tr th {\n",
              "        vertical-align: top;\n",
              "    }\n",
              "\n",
              "    .dataframe thead th {\n",
              "        text-align: right;\n",
              "    }\n",
              "</style>\n",
              "<table border=\"1\" class=\"dataframe\">\n",
              "  <thead>\n",
              "    <tr style=\"text-align: right;\">\n",
              "      <th></th>\n",
              "      <th>Pct_To_Target</th>\n",
              "      <th>Sales_Target</th>\n",
              "      <th>Sales</th>\n",
              "    </tr>\n",
              "  </thead>\n",
              "  <tbody>\n",
              "    <tr>\n",
              "      <th>0</th>\n",
              "      <td>0.97</td>\n",
              "      <td>200000</td>\n",
              "      <td>194000.0</td>\n",
              "    </tr>\n",
              "    <tr>\n",
              "      <th>1</th>\n",
              "      <td>1.05</td>\n",
              "      <td>500000</td>\n",
              "      <td>525000.0</td>\n",
              "    </tr>\n",
              "    <tr>\n",
              "      <th>2</th>\n",
              "      <td>1.10</td>\n",
              "      <td>200000</td>\n",
              "      <td>220000.0</td>\n",
              "    </tr>\n",
              "    <tr>\n",
              "      <th>3</th>\n",
              "      <td>1.00</td>\n",
              "      <td>500000</td>\n",
              "      <td>500000.0</td>\n",
              "    </tr>\n",
              "    <tr>\n",
              "      <th>4</th>\n",
              "      <td>0.96</td>\n",
              "      <td>75000</td>\n",
              "      <td>72000.0</td>\n",
              "    </tr>\n",
              "    <tr>\n",
              "      <th>...</th>\n",
              "      <td>...</td>\n",
              "      <td>...</td>\n",
              "      <td>...</td>\n",
              "    </tr>\n",
              "    <tr>\n",
              "      <th>495</th>\n",
              "      <td>0.91</td>\n",
              "      <td>100000</td>\n",
              "      <td>91000.0</td>\n",
              "    </tr>\n",
              "    <tr>\n",
              "      <th>496</th>\n",
              "      <td>1.12</td>\n",
              "      <td>300000</td>\n",
              "      <td>336000.0</td>\n",
              "    </tr>\n",
              "    <tr>\n",
              "      <th>497</th>\n",
              "      <td>1.02</td>\n",
              "      <td>500000</td>\n",
              "      <td>510000.0</td>\n",
              "    </tr>\n",
              "    <tr>\n",
              "      <th>498</th>\n",
              "      <td>0.99</td>\n",
              "      <td>100000</td>\n",
              "      <td>99000.0</td>\n",
              "    </tr>\n",
              "    <tr>\n",
              "      <th>499</th>\n",
              "      <td>1.04</td>\n",
              "      <td>100000</td>\n",
              "      <td>104000.0</td>\n",
              "    </tr>\n",
              "  </tbody>\n",
              "</table>\n",
              "<p>500 rows × 3 columns</p>\n",
              "</div>"
            ],
            "text/plain": [
              "     Pct_To_Target  Sales_Target     Sales\n",
              "0             0.97        200000  194000.0\n",
              "1             1.05        500000  525000.0\n",
              "2             1.10        200000  220000.0\n",
              "3             1.00        500000  500000.0\n",
              "4             0.96         75000   72000.0\n",
              "..             ...           ...       ...\n",
              "495           0.91        100000   91000.0\n",
              "496           1.12        300000  336000.0\n",
              "497           1.02        500000  510000.0\n",
              "498           0.99        100000   99000.0\n",
              "499           1.04        100000  104000.0\n",
              "\n",
              "[500 rows x 3 columns]"
            ]
          },
          "metadata": {
            "tags": []
          },
          "execution_count": 9
        }
      ]
    },
    {
      "cell_type": "markdown",
      "metadata": {
        "id": "PoSfSqYUw7Aj"
      },
      "source": [
        "You might notice that I did a little trick to calculate the actual sales amount. For this problem, the actual sales amount may change greatly over the years but the performance distribution remains remarkably consistent. Therefore, I’m using the random distributions to generate my inputs and backing into the actual sales.\r\n",
        "\r\n",
        "The final piece of code we need to create is a way to map our Pct_To_Target to the commission rate. Here is the function:"
      ]
    },
    {
      "cell_type": "code",
      "metadata": {
        "id": "qg2A9cMLws_K"
      },
      "source": [
        "def calc_commission_rate(x):\r\n",
        "    \"\"\" Return the commission rate based on the table:\r\n",
        "    0-90% = 2%\r\n",
        "    91-99% = 3%\r\n",
        "    >= 100 = 4%\r\n",
        "    \"\"\"\r\n",
        "    if x <= .90:\r\n",
        "        return .02\r\n",
        "    if x <= .99:\r\n",
        "        return .03\r\n",
        "    else:\r\n",
        "        return .04"
      ],
      "execution_count": 10,
      "outputs": []
    },
    {
      "cell_type": "markdown",
      "metadata": {
        "id": "fMtqEqxwxCgS"
      },
      "source": [
        "Now we create our commission rate and multiply it times sales"
      ]
    },
    {
      "cell_type": "code",
      "metadata": {
        "colab": {
          "base_uri": "https://localhost:8080/",
          "height": 402
        },
        "id": "gGiCmaaww9xo",
        "outputId": "366aebba-1a06-48d6-cabd-68d1d84c3211"
      },
      "source": [
        "df['Commission_Rate'] = df['Pct_To_Target'].apply(calc_commission_rate)\r\n",
        "df['Commission_Amount'] = df['Commission_Rate'] * df['Sales']\r\n",
        "df"
      ],
      "execution_count": 11,
      "outputs": [
        {
          "output_type": "execute_result",
          "data": {
            "text/html": [
              "<div>\n",
              "<style scoped>\n",
              "    .dataframe tbody tr th:only-of-type {\n",
              "        vertical-align: middle;\n",
              "    }\n",
              "\n",
              "    .dataframe tbody tr th {\n",
              "        vertical-align: top;\n",
              "    }\n",
              "\n",
              "    .dataframe thead th {\n",
              "        text-align: right;\n",
              "    }\n",
              "</style>\n",
              "<table border=\"1\" class=\"dataframe\">\n",
              "  <thead>\n",
              "    <tr style=\"text-align: right;\">\n",
              "      <th></th>\n",
              "      <th>Pct_To_Target</th>\n",
              "      <th>Sales_Target</th>\n",
              "      <th>Sales</th>\n",
              "      <th>Commission_Rate</th>\n",
              "      <th>Commission_Amount</th>\n",
              "    </tr>\n",
              "  </thead>\n",
              "  <tbody>\n",
              "    <tr>\n",
              "      <th>0</th>\n",
              "      <td>0.97</td>\n",
              "      <td>200000</td>\n",
              "      <td>194000.0</td>\n",
              "      <td>0.03</td>\n",
              "      <td>5820.0</td>\n",
              "    </tr>\n",
              "    <tr>\n",
              "      <th>1</th>\n",
              "      <td>1.05</td>\n",
              "      <td>500000</td>\n",
              "      <td>525000.0</td>\n",
              "      <td>0.04</td>\n",
              "      <td>21000.0</td>\n",
              "    </tr>\n",
              "    <tr>\n",
              "      <th>2</th>\n",
              "      <td>1.10</td>\n",
              "      <td>200000</td>\n",
              "      <td>220000.0</td>\n",
              "      <td>0.04</td>\n",
              "      <td>8800.0</td>\n",
              "    </tr>\n",
              "    <tr>\n",
              "      <th>3</th>\n",
              "      <td>1.00</td>\n",
              "      <td>500000</td>\n",
              "      <td>500000.0</td>\n",
              "      <td>0.04</td>\n",
              "      <td>20000.0</td>\n",
              "    </tr>\n",
              "    <tr>\n",
              "      <th>4</th>\n",
              "      <td>0.96</td>\n",
              "      <td>75000</td>\n",
              "      <td>72000.0</td>\n",
              "      <td>0.03</td>\n",
              "      <td>2160.0</td>\n",
              "    </tr>\n",
              "    <tr>\n",
              "      <th>...</th>\n",
              "      <td>...</td>\n",
              "      <td>...</td>\n",
              "      <td>...</td>\n",
              "      <td>...</td>\n",
              "      <td>...</td>\n",
              "    </tr>\n",
              "    <tr>\n",
              "      <th>495</th>\n",
              "      <td>0.91</td>\n",
              "      <td>100000</td>\n",
              "      <td>91000.0</td>\n",
              "      <td>0.03</td>\n",
              "      <td>2730.0</td>\n",
              "    </tr>\n",
              "    <tr>\n",
              "      <th>496</th>\n",
              "      <td>1.12</td>\n",
              "      <td>300000</td>\n",
              "      <td>336000.0</td>\n",
              "      <td>0.04</td>\n",
              "      <td>13440.0</td>\n",
              "    </tr>\n",
              "    <tr>\n",
              "      <th>497</th>\n",
              "      <td>1.02</td>\n",
              "      <td>500000</td>\n",
              "      <td>510000.0</td>\n",
              "      <td>0.04</td>\n",
              "      <td>20400.0</td>\n",
              "    </tr>\n",
              "    <tr>\n",
              "      <th>498</th>\n",
              "      <td>0.99</td>\n",
              "      <td>100000</td>\n",
              "      <td>99000.0</td>\n",
              "      <td>0.03</td>\n",
              "      <td>2970.0</td>\n",
              "    </tr>\n",
              "    <tr>\n",
              "      <th>499</th>\n",
              "      <td>1.04</td>\n",
              "      <td>100000</td>\n",
              "      <td>104000.0</td>\n",
              "      <td>0.04</td>\n",
              "      <td>4160.0</td>\n",
              "    </tr>\n",
              "  </tbody>\n",
              "</table>\n",
              "<p>500 rows × 5 columns</p>\n",
              "</div>"
            ],
            "text/plain": [
              "     Pct_To_Target  Sales_Target     Sales  Commission_Rate  Commission_Amount\n",
              "0             0.97        200000  194000.0             0.03             5820.0\n",
              "1             1.05        500000  525000.0             0.04            21000.0\n",
              "2             1.10        200000  220000.0             0.04             8800.0\n",
              "3             1.00        500000  500000.0             0.04            20000.0\n",
              "4             0.96         75000   72000.0             0.03             2160.0\n",
              "..             ...           ...       ...              ...                ...\n",
              "495           0.91        100000   91000.0             0.03             2730.0\n",
              "496           1.12        300000  336000.0             0.04            13440.0\n",
              "497           1.02        500000  510000.0             0.04            20400.0\n",
              "498           0.99        100000   99000.0             0.03             2970.0\n",
              "499           1.04        100000  104000.0             0.04             4160.0\n",
              "\n",
              "[500 rows x 5 columns]"
            ]
          },
          "metadata": {
            "tags": []
          },
          "execution_count": 11
        }
      ]
    },
    {
      "cell_type": "markdown",
      "metadata": {
        "id": "fdxDEepLxOlj"
      },
      "source": [
        "### Let’s Loop"
      ]
    },
    {
      "cell_type": "code",
      "metadata": {
        "id": "NBW_cGYJxJjK"
      },
      "source": [
        "all_stats = []\r\n",
        "\r\n",
        "# Loop through many simulations\r\n",
        "for i in range(num_simulations):\r\n",
        "\r\n",
        "    # Choose random inputs for the sales targets and percent to target\r\n",
        "    sales_target = np.random.choice(sales_target_values, num_reps, p=sales_target_prob)\r\n",
        "    pct_to_target = np.random.normal(avg, std_dev, num_reps).round(2)\r\n",
        "\r\n",
        "    # Build the dataframe based on the inputs and number of reps\r\n",
        "    df = pd.DataFrame(index=range(num_reps), data={'Pct_To_Target': pct_to_target,\r\n",
        "                                                   'Sales_Target': sales_target})\r\n",
        "\r\n",
        "    # Back into the sales number using the percent to target rate\r\n",
        "    df['Sales'] = df['Pct_To_Target'] * df['Sales_Target']\r\n",
        "\r\n",
        "    # Determine the commissions rate and calculate it\r\n",
        "    df['Commission_Rate'] = df['Pct_To_Target'].apply(calc_commission_rate)\r\n",
        "    df['Commission_Amount'] = df['Commission_Rate'] * df['Sales']\r\n",
        "\r\n",
        "    # We want to track sales,commission amounts and sales targets over all the simulations\r\n",
        "    all_stats.append([df['Sales'].sum().round(0),\r\n",
        "                      df['Commission_Amount'].sum().round(0),\r\n",
        "                      df['Sales_Target'].sum().round(0)])"
      ],
      "execution_count": 12,
      "outputs": []
    },
    {
      "cell_type": "markdown",
      "metadata": {
        "id": "tBd-14wcxaXF"
      },
      "source": [
        "In order to analyze the results of the simulation, I will build a dataframe from all_stats :"
      ]
    },
    {
      "cell_type": "code",
      "metadata": {
        "id": "mBfvz56PxZDr"
      },
      "source": [
        "results_df = pd.DataFrame.from_records(all_stats, columns=['Sales',\r\n",
        "                                                           'Commission_Amount',\r\n",
        "                                                           'Sales_Target'])"
      ],
      "execution_count": 13,
      "outputs": []
    },
    {
      "cell_type": "code",
      "metadata": {
        "colab": {
          "base_uri": "https://localhost:8080/",
          "height": 198
        },
        "id": "tKhpvmYaxe7J",
        "outputId": "901fecde-1fca-4c57-b255-e6763134fb1b"
      },
      "source": [
        "results_df.describe().style.format('{:,}')"
      ],
      "execution_count": 14,
      "outputs": [
        {
          "output_type": "execute_result",
          "data": {
            "text/html": [
              "<style  type=\"text/css\" >\n",
              "</style><table id=\"T_711b7020_73fa_11eb_91ab_0242ac1c0002\" ><thead>    <tr>        <th class=\"blank level0\" ></th>        <th class=\"col_heading level0 col0\" >Sales</th>        <th class=\"col_heading level0 col1\" >Commission_Amount</th>        <th class=\"col_heading level0 col2\" >Sales_Target</th>    </tr></thead><tbody>\n",
              "                <tr>\n",
              "                        <th id=\"T_711b7020_73fa_11eb_91ab_0242ac1c0002level0_row0\" class=\"row_heading level0 row0\" >count</th>\n",
              "                        <td id=\"T_711b7020_73fa_11eb_91ab_0242ac1c0002row0_col0\" class=\"data row0 col0\" >1,000.0</td>\n",
              "                        <td id=\"T_711b7020_73fa_11eb_91ab_0242ac1c0002row0_col1\" class=\"data row0 col1\" >1,000.0</td>\n",
              "                        <td id=\"T_711b7020_73fa_11eb_91ab_0242ac1c0002row0_col2\" class=\"data row0 col2\" >1,000.0</td>\n",
              "            </tr>\n",
              "            <tr>\n",
              "                        <th id=\"T_711b7020_73fa_11eb_91ab_0242ac1c0002level0_row1\" class=\"row_heading level0 row1\" >mean</th>\n",
              "                        <td id=\"T_711b7020_73fa_11eb_91ab_0242ac1c0002row1_col0\" class=\"data row1 col0\" >83,722,071.0</td>\n",
              "                        <td id=\"T_711b7020_73fa_11eb_91ab_0242ac1c0002row1_col1\" class=\"data row1 col1\" >2,858,303.489</td>\n",
              "                        <td id=\"T_711b7020_73fa_11eb_91ab_0242ac1c0002row1_col2\" class=\"data row1 col2\" >83,723,150.0</td>\n",
              "            </tr>\n",
              "            <tr>\n",
              "                        <th id=\"T_711b7020_73fa_11eb_91ab_0242ac1c0002level0_row2\" class=\"row_heading level0 row2\" >std</th>\n",
              "                        <td id=\"T_711b7020_73fa_11eb_91ab_0242ac1c0002row2_col0\" class=\"data row2 col0\" >2,842,219.531933046</td>\n",
              "                        <td id=\"T_711b7020_73fa_11eb_91ab_0242ac1c0002row2_col1\" class=\"data row2 col1\" >106,809.07707256425</td>\n",
              "                        <td id=\"T_711b7020_73fa_11eb_91ab_0242ac1c0002row2_col2\" class=\"data row2 col2\" >2,797,191.378348487</td>\n",
              "            </tr>\n",
              "            <tr>\n",
              "                        <th id=\"T_711b7020_73fa_11eb_91ab_0242ac1c0002level0_row3\" class=\"row_heading level0 row3\" >min</th>\n",
              "                        <td id=\"T_711b7020_73fa_11eb_91ab_0242ac1c0002row3_col0\" class=\"data row3 col0\" >74,615,000.0</td>\n",
              "                        <td id=\"T_711b7020_73fa_11eb_91ab_0242ac1c0002row3_col1\" class=\"data row3 col1\" >2,494,982.0</td>\n",
              "                        <td id=\"T_711b7020_73fa_11eb_91ab_0242ac1c0002row3_col2\" class=\"data row3 col2\" >74,875,000.0</td>\n",
              "            </tr>\n",
              "            <tr>\n",
              "                        <th id=\"T_711b7020_73fa_11eb_91ab_0242ac1c0002level0_row4\" class=\"row_heading level0 row4\" >25%</th>\n",
              "                        <td id=\"T_711b7020_73fa_11eb_91ab_0242ac1c0002row4_col0\" class=\"data row4 col0\" >81,762,562.5</td>\n",
              "                        <td id=\"T_711b7020_73fa_11eb_91ab_0242ac1c0002row4_col1\" class=\"data row4 col1\" >2,785,325.0</td>\n",
              "                        <td id=\"T_711b7020_73fa_11eb_91ab_0242ac1c0002row4_col2\" class=\"data row4 col2\" >81,825,000.0</td>\n",
              "            </tr>\n",
              "            <tr>\n",
              "                        <th id=\"T_711b7020_73fa_11eb_91ab_0242ac1c0002level0_row5\" class=\"row_heading level0 row5\" >50%</th>\n",
              "                        <td id=\"T_711b7020_73fa_11eb_91ab_0242ac1c0002row5_col0\" class=\"data row5 col0\" >83,765,125.0</td>\n",
              "                        <td id=\"T_711b7020_73fa_11eb_91ab_0242ac1c0002row5_col1\" class=\"data row5 col1\" >2,855,525.0</td>\n",
              "                        <td id=\"T_711b7020_73fa_11eb_91ab_0242ac1c0002row5_col2\" class=\"data row5 col2\" >83,737,500.0</td>\n",
              "            </tr>\n",
              "            <tr>\n",
              "                        <th id=\"T_711b7020_73fa_11eb_91ab_0242ac1c0002level0_row6\" class=\"row_heading level0 row6\" >75%</th>\n",
              "                        <td id=\"T_711b7020_73fa_11eb_91ab_0242ac1c0002row6_col0\" class=\"data row6 col0\" >85,534,750.0</td>\n",
              "                        <td id=\"T_711b7020_73fa_11eb_91ab_0242ac1c0002row6_col1\" class=\"data row6 col1\" >2,932,741.75</td>\n",
              "                        <td id=\"T_711b7020_73fa_11eb_91ab_0242ac1c0002row6_col2\" class=\"data row6 col2\" >85,500,000.0</td>\n",
              "            </tr>\n",
              "            <tr>\n",
              "                        <th id=\"T_711b7020_73fa_11eb_91ab_0242ac1c0002level0_row7\" class=\"row_heading level0 row7\" >max</th>\n",
              "                        <td id=\"T_711b7020_73fa_11eb_91ab_0242ac1c0002row7_col0\" class=\"data row7 col0\" >92,615,500.0</td>\n",
              "                        <td id=\"T_711b7020_73fa_11eb_91ab_0242ac1c0002row7_col1\" class=\"data row7 col1\" >3,226,045.0</td>\n",
              "                        <td id=\"T_711b7020_73fa_11eb_91ab_0242ac1c0002row7_col2\" class=\"data row7 col2\" >92,325,000.0</td>\n",
              "            </tr>\n",
              "    </tbody></table>"
            ],
            "text/plain": [
              "<pandas.io.formats.style.Styler at 0x7f167e2c93c8>"
            ]
          },
          "metadata": {
            "tags": []
          },
          "execution_count": 14
        }
      ]
    },
    {
      "cell_type": "code",
      "metadata": {
        "colab": {
          "base_uri": "https://localhost:8080/",
          "height": 402
        },
        "id": "rQKDblPwxiqJ",
        "outputId": "7b8cba5d-0952-48f5-ac9f-fce25626a908"
      },
      "source": [
        "results_df"
      ],
      "execution_count": 15,
      "outputs": [
        {
          "output_type": "execute_result",
          "data": {
            "text/html": [
              "<div>\n",
              "<style scoped>\n",
              "    .dataframe tbody tr th:only-of-type {\n",
              "        vertical-align: middle;\n",
              "    }\n",
              "\n",
              "    .dataframe tbody tr th {\n",
              "        vertical-align: top;\n",
              "    }\n",
              "\n",
              "    .dataframe thead th {\n",
              "        text-align: right;\n",
              "    }\n",
              "</style>\n",
              "<table border=\"1\" class=\"dataframe\">\n",
              "  <thead>\n",
              "    <tr style=\"text-align: right;\">\n",
              "      <th></th>\n",
              "      <th>Sales</th>\n",
              "      <th>Commission_Amount</th>\n",
              "      <th>Sales_Target</th>\n",
              "    </tr>\n",
              "  </thead>\n",
              "  <tbody>\n",
              "    <tr>\n",
              "      <th>0</th>\n",
              "      <td>81066000.0</td>\n",
              "      <td>2750428.0</td>\n",
              "      <td>81525000</td>\n",
              "    </tr>\n",
              "    <tr>\n",
              "      <th>1</th>\n",
              "      <td>84817000.0</td>\n",
              "      <td>2894580.0</td>\n",
              "      <td>85100000</td>\n",
              "    </tr>\n",
              "    <tr>\n",
              "      <th>2</th>\n",
              "      <td>83485250.0</td>\n",
              "      <td>2848018.0</td>\n",
              "      <td>83600000</td>\n",
              "    </tr>\n",
              "    <tr>\n",
              "      <th>3</th>\n",
              "      <td>85441500.0</td>\n",
              "      <td>2935110.0</td>\n",
              "      <td>85600000</td>\n",
              "    </tr>\n",
              "    <tr>\n",
              "      <th>4</th>\n",
              "      <td>86122750.0</td>\n",
              "      <td>2943375.0</td>\n",
              "      <td>85900000</td>\n",
              "    </tr>\n",
              "    <tr>\n",
              "      <th>...</th>\n",
              "      <td>...</td>\n",
              "      <td>...</td>\n",
              "      <td>...</td>\n",
              "    </tr>\n",
              "    <tr>\n",
              "      <th>995</th>\n",
              "      <td>84947750.0</td>\n",
              "      <td>2879275.0</td>\n",
              "      <td>84650000</td>\n",
              "    </tr>\n",
              "    <tr>\n",
              "      <th>996</th>\n",
              "      <td>81973250.0</td>\n",
              "      <td>2807848.0</td>\n",
              "      <td>82125000</td>\n",
              "    </tr>\n",
              "    <tr>\n",
              "      <th>997</th>\n",
              "      <td>85195250.0</td>\n",
              "      <td>2934685.0</td>\n",
              "      <td>84625000</td>\n",
              "    </tr>\n",
              "    <tr>\n",
              "      <th>998</th>\n",
              "      <td>83851250.0</td>\n",
              "      <td>2897495.0</td>\n",
              "      <td>83575000</td>\n",
              "    </tr>\n",
              "    <tr>\n",
              "      <th>999</th>\n",
              "      <td>82321750.0</td>\n",
              "      <td>2758562.0</td>\n",
              "      <td>83150000</td>\n",
              "    </tr>\n",
              "  </tbody>\n",
              "</table>\n",
              "<p>1000 rows × 3 columns</p>\n",
              "</div>"
            ],
            "text/plain": [
              "          Sales  Commission_Amount  Sales_Target\n",
              "0    81066000.0          2750428.0      81525000\n",
              "1    84817000.0          2894580.0      85100000\n",
              "2    83485250.0          2848018.0      83600000\n",
              "3    85441500.0          2935110.0      85600000\n",
              "4    86122750.0          2943375.0      85900000\n",
              "..          ...                ...           ...\n",
              "995  84947750.0          2879275.0      84650000\n",
              "996  81973250.0          2807848.0      82125000\n",
              "997  85195250.0          2934685.0      84625000\n",
              "998  83851250.0          2897495.0      83575000\n",
              "999  82321750.0          2758562.0      83150000\n",
              "\n",
              "[1000 rows x 3 columns]"
            ]
          },
          "metadata": {
            "tags": []
          },
          "execution_count": 15
        }
      ]
    },
    {
      "cell_type": "code",
      "metadata": {
        "colab": {
          "base_uri": "https://localhost:8080/",
          "height": 298
        },
        "id": "uLLhGKFFxmgJ",
        "outputId": "ca3a686a-31c5-42e6-ebad-31fede660183"
      },
      "source": [
        "sns.histplot(data=results_df, x=\"Commission_Amount\")"
      ],
      "execution_count": 18,
      "outputs": [
        {
          "output_type": "execute_result",
          "data": {
            "text/plain": [
              "<matplotlib.axes._subplots.AxesSubplot at 0x7f167de44cf8>"
            ]
          },
          "metadata": {
            "tags": []
          },
          "execution_count": 18
        },
        {
          "output_type": "display_data",
          "data": {
            "image/png": "[encoded data removed]",
            "text/plain": [
              "<Figure size 432x288 with 1 Axes>"
            ]
          },
          "metadata": {
            "tags": [],
            "needs_background": "light"
          }
        }
      ]
    },
    {
      "cell_type": "markdown",
      "metadata": {
        "id": "s2kalpJyyDU2"
      },
      "source": [
        "So, what does this chart and the output of describe tell us? We can see that the average commissions expense is 2.85M and the standard deviation is 103K. We can also see that the commissions payment can be as low as 2.5M or as high as 3.2M.\r\n",
        "\r\n",
        "Based on these results, how comfortable are you that the expense for commissions will be less than 3M? Or, if someone says, \"Let’s only budget 2.7M\" would you feel comfortable that your expenses would be below that amount? Probably not.\r\n",
        "\r\n",
        "Therein lies one of the benefits of the Monte Carlo simulation. You develop a better understanding of the distribution of likely outcomes and can use that knowledge plus your business acumen to make an informed estimate.\r\n",
        "\r\n",
        "The other value of this model is that you can model many different assumptions and see what happens. Here are some simple changes you can make to see how the results change:\r\n",
        "\r\n",
        "Increase top commission rate to 5%\r\n",
        "Decrease the number of sales people\r\n",
        "Change the expected standard deviation to a higher amount\r\n",
        "Modify the distribution of targets\r\n",
        "\r\n",
        "Another observation about Monte Carlo simulations is that they are relatively easy to explain to the end user of the prediction. The person receiving this estimate may not have a deep mathematical background but can intuitively understand what this simulation is doing and how to assess the likelihood of the range of potential results."
      ]
    },
    {
      "cell_type": "code",
      "metadata": {
        "id": "lAtmu1tHx9fB"
      },
      "source": [
        ""
      ],
      "execution_count": null,
      "outputs": []
    }
  ]
}